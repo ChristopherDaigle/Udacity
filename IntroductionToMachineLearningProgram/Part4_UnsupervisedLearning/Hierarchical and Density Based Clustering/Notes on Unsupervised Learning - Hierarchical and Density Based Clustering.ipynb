{
 "cells": [
  {
   "cell_type": "markdown",
   "metadata": {},
   "source": [
    "# Clustering - Beyond K-Means\n",
    "\n",
    "<img src='K_means.png' width=600px>\n",
    "\n",
    "`1.` **Hierarchical**\n",
    "\n",
    "`2.` **Density** - DBSCAN (Density Based Spacial Clustering with Application with Noise)\n",
    "\n",
    "<img src='hier_DBSCAN.png' width= 600px>"
   ]
  },
  {
   "cell_type": "markdown",
   "metadata": {},
   "source": [
    "# # Single Link Clustering\n",
    "\n",
    "<img src='sl_cluster.png' width=600px>\n",
    "\n",
    "<img src='dist_meas_clust.png' width=600px>\n",
    "\n",
    "<img src='dist_meas_sl.png' width=600px>"
   ]
  },
  {
   "cell_type": "code",
   "execution_count": null,
   "metadata": {},
   "outputs": [],
   "source": []
  }
 ],
 "metadata": {
  "kernelspec": {
   "display_name": "Python 3",
   "language": "python",
   "name": "python3"
  },
  "language_info": {
   "codemirror_mode": {
    "name": "ipython",
    "version": 3
   },
   "file_extension": ".py",
   "mimetype": "text/x-python",
   "name": "python",
   "nbconvert_exporter": "python",
   "pygments_lexer": "ipython3",
   "version": "3.7.3"
  }
 },
 "nbformat": 4,
 "nbformat_minor": 2
}
