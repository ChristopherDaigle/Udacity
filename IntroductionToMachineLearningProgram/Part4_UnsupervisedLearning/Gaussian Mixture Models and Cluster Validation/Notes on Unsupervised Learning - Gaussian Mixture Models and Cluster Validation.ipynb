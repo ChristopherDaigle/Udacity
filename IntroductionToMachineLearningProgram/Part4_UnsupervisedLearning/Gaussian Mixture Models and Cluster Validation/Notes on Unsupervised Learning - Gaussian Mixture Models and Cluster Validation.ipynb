{
 "cells": [
  {
   "cell_type": "markdown",
   "metadata": {},
   "source": [
    "# Gaussian Mixture Models\n",
    "\n",
    "<img src='macro_gaus.png' width=600px>\n",
    "<img src='1D_gaus.png' width=600px>"
   ]
  },
  {
   "cell_type": "markdown",
   "metadata": {},
   "source": [
    "# Gaussian Distributions (Normal)\n",
    "<img src='norm_dist.png' width=600px>\n",
    "<img src='gaus_dist1.png' width=600px>\n",
    "<img src='gaus_dist2.png' width=600px>\n",
    "<img src='gaus_dist3.png' width=600px>\n",
    "<img src='gaus_dist4.png' width=600px>\n",
    "\n",
    "__________\n",
    "\n",
    "## Gaussian Mixture Model (GMM) Clustering\n",
    "Combine both tests' data points as they are on the same scale (0-100) and we have mixed the gaussian distributions\n",
    "<img src='gaus_mix1.png' width=600px>\n",
    "* The distributions are preserved, but they do not make one Gaussian distribution, rather the mixing allows them to exist simultaneously in the same range\n",
    "* Without knowing which data points came from which distribution, the distributions can be infered and the points with the higher probability of belonging to one gaussian distribution in the mixture over another are predicted to be as such, assigned to the respective test\n",
    "> 1 Mix the data\n",
    "<img src='gaus_mix2.png' width=600px>\n",
    "> 2 Find the data's distribution as a whole\n",
    "<img src='gaus_mix3.png' width=600px>\n",
    "> 3 Determine the different distributions and assign the data points based to the distribution that the probability is highest they belong to\n",
    "<img src='gaus_mix4.png' width=600px>"
   ]
  },
  {
   "cell_type": "markdown",
   "metadata": {},
   "source": [
    "# Gaussian Distribution | Two Dimensions\n",
    "<img src='gaus_2d1.png' width=900px>\n",
    "\n",
    "* Plotting the two scores against one another yeilds the above visualization\n",
    "\n",
    "> * Scatter in the middle\n",
    "> * Histograms at the top and side (revealing each follows a gaussian distribution)\n",
    "> * Orange \"+\" is the mean of each\n",
    "> * Circles are the standard deviations (just as before)\n",
    ">> * First circle contains 68% of the data\n",
    ">> * Second contains 95%\n",
    ">> * Third contains 99%\n",
    "\n",
    "**Note the two different mixes (total of 4 distributions**\n",
    "<img src='gaus_2d2.png' width=600px>\n",
    "**Combining them, we can infer their original lables**\n",
    "<img src='gaus_2d3.png' width=600px>"
   ]
  },
  {
   "cell_type": "markdown",
   "metadata": {},
   "source": [
    "# Using GMM for prediction - Expectation Maximization\n",
    "\n",
    "<img src='gaus_exp1.png' width=900px>"
   ]
  },
  {
   "cell_type": "code",
   "execution_count": null,
   "metadata": {},
   "outputs": [],
   "source": []
  }
 ],
 "metadata": {
  "kernelspec": {
   "display_name": "Python 3",
   "language": "python",
   "name": "python3"
  },
  "language_info": {
   "codemirror_mode": {
    "name": "ipython",
    "version": 3
   },
   "file_extension": ".py",
   "mimetype": "text/x-python",
   "name": "python",
   "nbconvert_exporter": "python",
   "pygments_lexer": "ipython3",
   "version": "3.6.8"
  }
 },
 "nbformat": 4,
 "nbformat_minor": 2
}
