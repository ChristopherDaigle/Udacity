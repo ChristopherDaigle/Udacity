{
 "cells": [
  {
   "cell_type": "markdown",
   "metadata": {},
   "source": [
    "# Training and Tuning\n",
    "\n",
    "In thinking of the types of models, or complexity of models, accoutning for the bias-variance tradeoff is necessary.\n",
    "\n",
    "<img src='BiasVarAnec.png'>\n",
    "\n",
    "## Model Complexity Graph\n",
    "<img src='ModelComplexityGraph.png'>\n",
    "\n",
    "**BIG ISSUE: CANT USE TESTING SET FOR MODEL SELECTION**\n",
    "\n",
    "Instead, include a **Cross Validation** set\n",
    "<img src='CrossValSet.png'>\n",
    "\n",
    "And we can see this graph instead:\n",
    "<img src='ModelCompCVTrainGraph.png'>"
   ]
  },
  {
   "cell_type": "code",
   "execution_count": null,
   "metadata": {},
   "outputs": [],
   "source": []
  }
 ],
 "metadata": {
  "kernelspec": {
   "display_name": "Python 3",
   "language": "python",
   "name": "python3"
  },
  "language_info": {
   "codemirror_mode": {
    "name": "ipython",
    "version": 3
   },
   "file_extension": ".py",
   "mimetype": "text/x-python",
   "name": "python",
   "nbconvert_exporter": "python",
   "pygments_lexer": "ipython3",
   "version": "3.6.8"
  }
 },
 "nbformat": 4,
 "nbformat_minor": 2
}
