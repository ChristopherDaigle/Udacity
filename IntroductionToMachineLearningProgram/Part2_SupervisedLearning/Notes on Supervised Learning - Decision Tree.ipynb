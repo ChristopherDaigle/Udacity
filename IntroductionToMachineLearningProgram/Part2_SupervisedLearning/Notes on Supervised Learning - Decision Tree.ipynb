{
 "cells": [
  {
   "cell_type": "markdown",
   "metadata": {},
   "source": [
    "# Decision Tree Algorithm\n",
    "\n",
    "The quizzes in this section are based on this image:\n",
    "<img src=\"recommending-apps.png\">\n",
    "\n",
    "In this case, the first node of the decision tree should be Occupation -> this value splits the data more concretely (only studiers use PokemonGo, while Workers use either WhatsApp or SnapChat, but splitting on Male and female will help us recommend either)\n",
    "\n",
    "Steps in the tree look like:\n",
    "<img src=\"DecisionTreeAppSplit.png\">\n",
    "\n",
    "# Entropy\n",
    "\n",
    "Measures how much freedom a particle has to move around\n",
    "<img src=\"EntropyOfWater.png\">\n",
    "\n",
    "This also works in probability.\n",
    "<img src=\"EntropyOfMarbles.png\">\n",
    "\n",
    "Entropy is decreasing in \"knowledge\".\n",
    "<img src=\"EntropyOfKnowledge.png\">\n",
    "As knowledge decreases, entropy increases"
   ]
  },
  {
   "cell_type": "code",
   "execution_count": null,
   "metadata": {},
   "outputs": [],
   "source": []
  }
 ],
 "metadata": {
  "kernelspec": {
   "display_name": "Python 3",
   "language": "python",
   "name": "python3"
  },
  "language_info": {
   "codemirror_mode": {
    "name": "ipython",
    "version": 3
   },
   "file_extension": ".py",
   "mimetype": "text/x-python",
   "name": "python",
   "nbconvert_exporter": "python",
   "pygments_lexer": "ipython3",
   "version": "3.6.8"
  }
 },
 "nbformat": 4,
 "nbformat_minor": 2
}
