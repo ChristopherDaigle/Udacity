{
 "cells": [
  {
   "cell_type": "markdown",
   "metadata": {},
   "source": [
    "# Notes on Supervised Learning: Regression"
   ]
  },
  {
   "cell_type": "markdown",
   "metadata": {},
   "source": [
    "Absolute Trick:\n",
    "$$\n",
    "y = (w_{1}+p \\alpha)x+(w_{2}+1\\alpha)\n",
    "$$\n",
    "\n",
    "> Example:\n",
    "\n",
    "$$(p,q) = (5,15); y=w_{1}x+w_{2}=2x+3; \\alpha = 0.1$$\n",
    "\n",
    "> Then\n",
    "\n",
    "$$y=(w_{1}+p \\alpha)x+(w_{2}+1\\alpha) = (2+5*0.1)x + (3+0.1) = 2.5x+3.1$$\n",
    "\n",
    "Square Trick:\n",
    "$$\n",
    "y = (w_{1}+p  \\alpha  (q-q^{'}))x+(w_{2}+1\\alpha (q-q^{'}))\n",
    "$$\n",
    "\n",
    "> Example:\n",
    "\n",
    "$$(p, q) = (5,15), (p, q^{'}) = (5,13); y=w_{1}x+w_{2}=2x+3; \\alpha = 0.01$$\n",
    "\n",
    "> Then\n",
    "\n",
    "$$y=(w_{1}+p  \\alpha  (q-q^{'}))x+(w_{2}+1\\alpha (q-q^{'}))$$\n",
    "$$= (2+5*0.01*(15-13))x + (3+0.01(15-13)$$\n",
    "$$=(2+0.05*2)x+(3+0.01*2)$$\n",
    "$$=2.1x+3.02 $$\n",
    "\n",
    "<br>\n",
    "<li> Learning Rate Parameter: $\\alpha$\n",
    "<li> Bias: $w_{1}$\n",
    "<li> Slope: $w_{2}$\n",
    "<li> Horizontal Distance: $p$\n",
    "<li> Vertical Distance: $(q-q^{'})$"
   ]
  },
  {
   "cell_type": "code",
   "execution_count": null,
   "metadata": {},
   "outputs": [],
   "source": []
  }
 ],
 "metadata": {
  "kernelspec": {
   "display_name": "Python 3",
   "language": "python",
   "name": "python3"
  },
  "language_info": {
   "codemirror_mode": {
    "name": "ipython",
    "version": 3
   },
   "file_extension": ".py",
   "mimetype": "text/x-python",
   "name": "python",
   "nbconvert_exporter": "python",
   "pygments_lexer": "ipython3",
   "version": "3.6.8"
  }
 },
 "nbformat": 4,
 "nbformat_minor": 2
}
