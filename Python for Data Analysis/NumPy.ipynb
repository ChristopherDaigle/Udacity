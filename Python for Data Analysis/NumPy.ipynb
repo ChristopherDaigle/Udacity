{
 "cells": [
  {
   "cell_type": "code",
   "execution_count": 1,
   "metadata": {},
   "outputs": [],
   "source": [
    "import numpy as np"
   ]
  },
  {
   "cell_type": "code",
   "execution_count": 3,
   "metadata": {},
   "outputs": [],
   "source": [
    "x = np.random.random(100000000)"
   ]
  },
  {
   "cell_type": "code",
   "execution_count": 4,
   "metadata": {},
   "outputs": [
    {
     "name": "stdout",
     "output_type": "stream",
     "text": [
      "CPU times: user 10.2 s, sys: 135 ms, total: 10.3 s\n",
      "Wall time: 10.6 s\n"
     ]
    },
    {
     "data": {
      "text/plain": [
       "0.4999818462934982"
      ]
     },
     "execution_count": 4,
     "metadata": {},
     "output_type": "execute_result"
    }
   ],
   "source": [
    "%%time\n",
    "# Pythonic\n",
    "sum(x) / len(x)"
   ]
  },
  {
   "cell_type": "code",
   "execution_count": 5,
   "metadata": {},
   "outputs": [
    {
     "name": "stdout",
     "output_type": "stream",
     "text": [
      "CPU times: user 72 ms, sys: 2.96 ms, total: 75 ms\n",
      "Wall time: 85.7 ms\n"
     ]
    },
    {
     "data": {
      "text/plain": [
       "0.49998184629357567"
      ]
     },
     "execution_count": 5,
     "metadata": {},
     "output_type": "execute_result"
    }
   ],
   "source": [
    "%%time\n",
    "np.mean(x)"
   ]
  },
  {
   "cell_type": "markdown",
   "metadata": {},
   "source": [
    "# Create an array with NumPy"
   ]
  },
  {
   "cell_type": "code",
   "execution_count": 8,
   "metadata": {},
   "outputs": [
    {
     "name": "stdout",
     "output_type": "stream",
     "text": [
      "[1 2 3 4 5]\n",
      "<class 'numpy.ndarray'>\n",
      "int64\n",
      "(5,)\n"
     ]
    }
   ],
   "source": [
    "x = np.array([1, 2, 3, 4, 5])\n",
    "print(x)\n",
    "# n-dimmensional array\n",
    "print(type(x))\n",
    "# return the datatype of the elements in the array\n",
    "print(x.dtype)\n",
    "print(x.shape)"
   ]
  },
  {
   "cell_type": "code",
   "execution_count": 15,
   "metadata": {},
   "outputs": [
    {
     "name": "stdout",
     "output_type": "stream",
     "text": [
      "[[ 1  2  3]\n",
      " [ 4  5  6]\n",
      " [ 7  8  9]\n",
      " [10 11 12]]\n",
      "\n",
      "<class 'numpy.ndarray'>\n",
      "\n",
      "int64\n",
      "\n",
      "(4, 3)\n",
      "\n",
      "12\n"
     ]
    }
   ],
   "source": [
    "# 2-dimmensional Array\n",
    "# Rank 2 array\n",
    "Y = np.array([[1,2,3],[4,5,6],[7,8,9],[10,11,12]])\n",
    "print(Y)\n",
    "print()\n",
    "print(type(Y))\n",
    "print()\n",
    "print(Y.dtype)\n",
    "print()\n",
    "print(Y.shape)\n",
    "print()\n",
    "# The number of elements in Y\n",
    "print(Y.size)\n"
   ]
  },
  {
   "cell_type": "code",
   "execution_count": 16,
   "metadata": {},
   "outputs": [
    {
     "name": "stdout",
     "output_type": "stream",
     "text": [
      "['Hello' 'World']\n"
     ]
    }
   ],
   "source": [
    "x = np.array(['Hello', 'World'])\n",
    "print(x)"
   ]
  },
  {
   "cell_type": "code",
   "execution_count": 17,
   "metadata": {},
   "outputs": [
    {
     "name": "stdout",
     "output_type": "stream",
     "text": [
      "shape:  (2,)\n",
      "type:  <class 'numpy.ndarray'>\n",
      "dtype:  <U5\n"
     ]
    }
   ],
   "source": [
    "print('shape: ', x.shape)\n",
    "print('type: ', type(x))\n",
    "print('dtype: ', x.dtype)"
   ]
  },
  {
   "cell_type": "code",
   "execution_count": 18,
   "metadata": {},
   "outputs": [
    {
     "name": "stdout",
     "output_type": "stream",
     "text": [
      "shape:  (3,)\n",
      "type:  <class 'numpy.ndarray'>\n",
      "dtype:  <U21\n"
     ]
    }
   ],
   "source": [
    "x = np.array([1, 2, 'World'])\n",
    "print('shape: ', x.shape)\n",
    "print('type: ', type(x))\n",
    "print('dtype: ', x.dtype)\n",
    "# The python list has mixed dataypes, but instead, numpy encoded\n",
    "# them to unicode strings of 21 character"
   ]
  },
  {
   "cell_type": "code",
   "execution_count": 22,
   "metadata": {},
   "outputs": [
    {
     "name": "stdout",
     "output_type": "stream",
     "text": [
      "type:  <class 'numpy.ndarray'>\n",
      "dtype:  float64\n",
      "[1.  2.5 4. ]\n"
     ]
    }
   ],
   "source": [
    "x = np.array([1, 2.5, 4])\n",
    "print('type: ', type(x))\n",
    "print('dtype: ', x.dtype)\n",
    "print(x)\n",
    "# NumPy upcasted the integers to floats, maintaining the same dtypes"
   ]
  },
  {
   "cell_type": "code",
   "execution_count": 21,
   "metadata": {},
   "outputs": [
    {
     "name": "stdout",
     "output_type": "stream",
     "text": [
      "type:  <class 'numpy.ndarray'>\n",
      "dtype:  int64\n",
      "[1 2 4]\n"
     ]
    }
   ],
   "source": [
    "# Dictate the dtype for an array:\n",
    "x = np.array([1, 2.5, 4], dtype=np.int64)\n",
    "print('type: ', type(x))\n",
    "print('dtype: ', x.dtype)\n",
    "print(x)\n",
    "# NumPy upcasted the integers to floats, maintaining the same dtypes"
   ]
  },
  {
   "cell_type": "code",
   "execution_count": 23,
   "metadata": {},
   "outputs": [],
   "source": [
    "# Save an array as a file for later use:\n",
    "x = np.array([1, 2, 3, 4, 5])\n",
    "np.save('my_array', x)"
   ]
  },
  {
   "cell_type": "code",
   "execution_count": 24,
   "metadata": {},
   "outputs": [
    {
     "name": "stdout",
     "output_type": "stream",
     "text": [
      "[1 2 3 4 5]\n"
     ]
    }
   ],
   "source": [
    "y = np.load('my_array.npy')\n",
    "print(y)"
   ]
  },
  {
   "cell_type": "markdown",
   "metadata": {},
   "source": [
    " # Using Built-In functions to create ndarrays"
   ]
  },
  {
   "cell_type": "code",
   "execution_count": 25,
   "metadata": {},
   "outputs": [
    {
     "data": {
      "text/plain": [
       "array([1, 2, 3, 4, 5])"
      ]
     },
     "execution_count": 25,
     "metadata": {},
     "output_type": "execute_result"
    }
   ],
   "source": [
    "my_list = [1, 2, 3, 4, 5]\n",
    "np.array(my_list)"
   ]
  },
  {
   "cell_type": "code",
   "execution_count": 29,
   "metadata": {},
   "outputs": [
    {
     "name": "stdout",
     "output_type": "stream",
     "text": [
      "[[0. 0. 0. 0.]\n",
      " [0. 0. 0. 0.]\n",
      " [0. 0. 0. 0.]]\n",
      "\n",
      "dtype float64\n"
     ]
    }
   ],
   "source": [
    "# Create a 3x4 array of zeroes in float 64\n",
    "X = np.zeros((3, 4))\n",
    "print(X)\n",
    "print()\n",
    "print('dtype', X.dtype)"
   ]
  },
  {
   "cell_type": "code",
   "execution_count": 30,
   "metadata": {},
   "outputs": [
    {
     "name": "stdout",
     "output_type": "stream",
     "text": [
      "[[0 0 0 0]\n",
      " [0 0 0 0]\n",
      " [0 0 0 0]]\n",
      "\n",
      "dtype int64\n"
     ]
    }
   ],
   "source": [
    "# Create a 3x4 array of zeroes in int\n",
    "X = np.zeros((3, 4), dtype=int)\n",
    "print(X)\n",
    "print()\n",
    "print('dtype', X.dtype)"
   ]
  },
  {
   "cell_type": "code",
   "execution_count": 32,
   "metadata": {},
   "outputs": [
    {
     "name": "stdout",
     "output_type": "stream",
     "text": [
      "[[1. 1. 1. 1. 1.]\n",
      " [1. 1. 1. 1. 1.]\n",
      " [1. 1. 1. 1. 1.]\n",
      " [1. 1. 1. 1. 1.]]\n",
      "\n",
      "dtype float64\n"
     ]
    }
   ],
   "source": [
    "# Create a 4x5 array of ones in float 64\n",
    "X = np.ones((4, 5))\n",
    "print(X)\n",
    "print()\n",
    "print('dtype', X.dtype)"
   ]
  },
  {
   "cell_type": "code",
   "execution_count": 35,
   "metadata": {},
   "outputs": [
    {
     "name": "stdout",
     "output_type": "stream",
     "text": [
      "[[5 5 5]\n",
      " [5 5 5]\n",
      " [5 5 5]\n",
      " [5 5 5]]\n",
      "\n",
      "dtype int64\n"
     ]
    }
   ],
   "source": [
    "# Create 4x3 array filled with a constant value of 5\n",
    "X = np.full((4, 3), 5)\n",
    "print(X)\n",
    "print()\n",
    "print('dtype', X.dtype)"
   ]
  },
  {
   "cell_type": "code",
   "execution_count": 38,
   "metadata": {},
   "outputs": [
    {
     "name": "stdout",
     "output_type": "stream",
     "text": [
      "[[1 0 0 0 0]\n",
      " [0 1 0 0 0]\n",
      " [0 0 1 0 0]\n",
      " [0 0 0 1 0]\n",
      " [0 0 0 0 1]]\n",
      "\n",
      "dtype int64\n"
     ]
    }
   ],
   "source": [
    "# Create the identity matrix\n",
    "X = np.eye(5, dtype=int)\n",
    "print(X)\n",
    "print()\n",
    "print('dtype', X.dtype)"
   ]
  },
  {
   "cell_type": "code",
   "execution_count": 39,
   "metadata": {},
   "outputs": [
    {
     "name": "stdout",
     "output_type": "stream",
     "text": [
      "[[10  0  0  0]\n",
      " [ 0 20  0  0]\n",
      " [ 0  0 30  0]\n",
      " [ 0  0  0 50]]\n",
      "\n",
      "dtype int64\n"
     ]
    }
   ],
   "source": [
    "# Create a diagonal with other than ones\n",
    "X = np.diag([10, 20, 30, 50])\n",
    "print(X)\n",
    "print()\n",
    "print('dtype', X.dtype)"
   ]
  },
  {
   "cell_type": "code",
   "execution_count": 41,
   "metadata": {},
   "outputs": [
    {
     "name": "stdout",
     "output_type": "stream",
     "text": [
      "[0 1 2 3 4 5 6 7 8 9]\n",
      "\n",
      "dtype int64\n"
     ]
    }
   ],
   "source": [
    "# Create a 1-d array of evenly spaced values over an interval\n",
    "X = np.arange(10)\n",
    "# With one argument, generates an array of integers from 0 to the\n",
    "# argument-1\n",
    "print(X)\n",
    "print()\n",
    "print('dtype', X.dtype)"
   ]
  },
  {
   "cell_type": "code",
   "execution_count": 42,
   "metadata": {},
   "outputs": [
    {
     "name": "stdout",
     "output_type": "stream",
     "text": [
      "[4 5 6 7 8 9]\n",
      "\n",
      "dtype int64\n"
     ]
    }
   ],
   "source": [
    "# Create a 1-d array of evenly spaced values over an interval\n",
    "X = np.arange(4, 10)\n",
    "# With two arguments, generates an array of integers from the\n",
    "# first argument to the second argument, exclusive of the stop\n",
    "print(X)\n",
    "print()\n",
    "print('dtype', X.dtype)"
   ]
  },
  {
   "cell_type": "code",
   "execution_count": 43,
   "metadata": {},
   "outputs": [
    {
     "name": "stdout",
     "output_type": "stream",
     "text": [
      "[ 1  4  7 10 13]\n",
      "\n",
      "dtype int64\n"
     ]
    }
   ],
   "source": [
    "# Create a 1-d array of evenly spaced values over an interval\n",
    "X = np.arange(1, 14, 3)\n",
    "# With three arguments, generates an array of integers from the\n",
    "# first argument to the second argument, exclusive of the second,\n",
    "# evenly spaced by the third argument\n",
    "print(X)\n",
    "print()\n",
    "print('dtype', X.dtype)"
   ]
  },
  {
   "cell_type": "code",
   "execution_count": 45,
   "metadata": {},
   "outputs": [
    {
     "name": "stdout",
     "output_type": "stream",
     "text": [
      "[ 0.          2.77777778  5.55555556  8.33333333 11.11111111 13.88888889\n",
      " 16.66666667 19.44444444 22.22222222 25.        ]\n",
      "\n",
      "dtype float64\n"
     ]
    }
   ],
   "source": [
    "# Creates n-evenly spaced numbers from start to stop\n",
    "X = np.linspace(0, 25, 10)\n",
    "# With three arguments, generates an array of floats from the\n",
    "# first argument to the second argument, inclusive of the second,\n",
    "# evenly spaced by the third argument\n",
    "print(X)\n",
    "print()\n",
    "print('dtype', X.dtype)"
   ]
  },
  {
   "cell_type": "code",
   "execution_count": 46,
   "metadata": {},
   "outputs": [
    {
     "name": "stdout",
     "output_type": "stream",
     "text": [
      "[ 0.   2.5  5.   7.5 10.  12.5 15.  17.5 20.  22.5]\n",
      "\n",
      "dtype float64\n"
     ]
    }
   ],
   "source": [
    "# Creates n-evenly spaced numbers from start to stop\n",
    "X = np.linspace(0, 25, 10, endpoint=False)\n",
    "# With three arguments, generates an array of floats from the\n",
    "# first argument to the second argument, exclusive of the second,\n",
    "# evenly spaced by the third argument\n",
    "print(X)\n",
    "print()\n",
    "print('dtype', X.dtype)"
   ]
  },
  {
   "cell_type": "code",
   "execution_count": 47,
   "metadata": {},
   "outputs": [
    {
     "name": "stdout",
     "output_type": "stream",
     "text": [
      "[ 0  1  2  3  4  5  6  7  8  9 10 11 12 13 14 15 16 17 18 19]\n",
      "\n",
      "[[ 0  1  2  3  4]\n",
      " [ 5  6  7  8  9]\n",
      " [10 11 12 13 14]\n",
      " [15 16 17 18 19]]\n",
      "\n",
      "dtype int64\n"
     ]
    }
   ],
   "source": [
    "# We can reshape a 1-D array into any other shape as long as\n",
    "# it's consistent with number of elements in the array\n",
    "x = np.arange(20)\n",
    "X = np.reshape(x, (4, 5))\n",
    "print(x)\n",
    "print()\n",
    "print(X)\n",
    "print()\n",
    "print('dtype', X.dtype)"
   ]
  },
  {
   "cell_type": "code",
   "execution_count": 48,
   "metadata": {},
   "outputs": [
    {
     "name": "stdout",
     "output_type": "stream",
     "text": [
      "[ 0  1  2  3  4  5  6  7  8  9 10 11 12 13 14 15 16 17 18 19]\n",
      "\n",
      "[[ 0  1]\n",
      " [ 2  3]\n",
      " [ 4  5]\n",
      " [ 6  7]\n",
      " [ 8  9]\n",
      " [10 11]\n",
      " [12 13]\n",
      " [14 15]\n",
      " [16 17]\n",
      " [18 19]]\n",
      "\n",
      "dtype int64\n"
     ]
    }
   ],
   "source": [
    "X = np.reshape(x, (10, 2))\n",
    "print(x)\n",
    "print()\n",
    "print(X)\n",
    "print()\n",
    "print('dtype', X.dtype)"
   ]
  },
  {
   "cell_type": "code",
   "execution_count": null,
   "metadata": {},
   "outputs": [],
   "source": []
  }
 ],
 "metadata": {
  "kernelspec": {
   "display_name": "Python 3",
   "language": "python",
   "name": "python3"
  },
  "language_info": {
   "codemirror_mode": {
    "name": "ipython",
    "version": 3
   },
   "file_extension": ".py",
   "mimetype": "text/x-python",
   "name": "python",
   "nbconvert_exporter": "python",
   "pygments_lexer": "ipython3",
   "version": "3.7.3"
  }
 },
 "nbformat": 4,
 "nbformat_minor": 2
}
